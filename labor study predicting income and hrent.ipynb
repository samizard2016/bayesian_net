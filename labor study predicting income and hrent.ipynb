{
 "cells": [
  {
   "cell_type": "code",
   "execution_count": 1,
   "id": "b61f2549-906e-4626-a52c-acc634732ee4",
   "metadata": {},
   "outputs": [],
   "source": [
    "import pandas as pd\n",
    "from bayesian_net import BayesNet"
   ]
  },
  {
   "cell_type": "code",
   "execution_count": 2,
   "id": "bc3c285a-a42d-42be-892d-5a17f793dc3d",
   "metadata": {},
   "outputs": [],
   "source": [
    "df1 = pd.read_excel(\"labour_study_source_data.xlsx\")\n",
    "df2 = pd.read_excel(\"labour_study_target_data.xlsx\")"
   ]
  },
  {
   "cell_type": "code",
   "execution_count": 3,
   "id": "d4240e87-1d2f-40c5-9b81-adebff432e17",
   "metadata": {},
   "outputs": [
    {
     "data": {
      "text/plain": [
       "Index(['OG _INTNR', 'personal_income_range', 'personal_income_mid',\n",
       "       'willingness_pay_rent_range', 'willingness_pay_rent_mid',\n",
       "       'household_income', 'urban_rural', 'state_code', 'gender',\n",
       "       'employment_status', 'salary_deductions', 'employment_classification',\n",
       "       'employment_industry', 'residence_origin', 'migration_status',\n",
       "       'migration_type', 'migrant_classification', 'employment_interest',\n",
       "       'sector_interest', 'govt_job_preparation', 'marital_status',\n",
       "       'education_level', 'age', 'experience_years'],\n",
       "      dtype='object')"
      ]
     },
     "execution_count": 3,
     "metadata": {},
     "output_type": "execute_result"
    }
   ],
   "source": [
    "df1.columns"
   ]
  },
  {
   "cell_type": "code",
   "execution_count": 57,
   "id": "28b31b6c-9cae-4d0f-aa69-d34481f95392",
   "metadata": {},
   "outputs": [],
   "source": [
    "income_cat = df1[\"personal_income_range\"].unique()\n",
    "rent_cat = df1[\"willingness_pay_rent_range\"].unique()"
   ]
  },
  {
   "cell_type": "code",
   "execution_count": 5,
   "id": "3b944a0d-f4f1-4ce7-9bb4-f687a4a4021d",
   "metadata": {},
   "outputs": [],
   "source": [
    "# income_cat, rent_cat"
   ]
  },
  {
   "cell_type": "code",
   "execution_count": 58,
   "id": "43f0b5db-76f7-4d4f-839b-253e08cb01be",
   "metadata": {},
   "outputs": [],
   "source": [
    "d_ic = {k:v for v,k in enumerate(income_cat)}\n",
    "d_rent = {k:v for v,k in enumerate(rent_cat)}"
   ]
  },
  {
   "cell_type": "code",
   "execution_count": 7,
   "id": "a8165c09-81e9-42c7-ae6b-9a9f912a201d",
   "metadata": {},
   "outputs": [],
   "source": [
    "# d_ic, d_rent"
   ]
  },
  {
   "cell_type": "code",
   "execution_count": 8,
   "id": "3a96dac2-fc38-4243-8a0f-6775cbb588c9",
   "metadata": {},
   "outputs": [],
   "source": [
    "# df1[\"income\"] = df1[\"personal_income_range\"].map(d_ic)\n",
    "# df1[\"rent\"] = df1[\"willingness_pay_rent_range\"].map(d_rent)"
   ]
  },
  {
   "cell_type": "code",
   "execution_count": 9,
   "id": "e239f1d2-f222-4392-ac1b-7e4c5d286701",
   "metadata": {},
   "outputs": [],
   "source": [
    "# df1.to_excel(\"labor_source.xlsx\",index=False)"
   ]
  },
  {
   "cell_type": "code",
   "execution_count": 43,
   "id": "27df1deb-dc04-4b37-adb4-8a3d750d12fc",
   "metadata": {},
   "outputs": [],
   "source": [
    "# profs = [\n",
    "#         'URBANRURAL', 'STATE_CODE', 'VBB', 'VBF', 'VBM', 'VBG',\n",
    "#         'VBH', 'VBJ', 'VBK', 'VBL', 'VGQ', 'VBP', 'VHT', 'VGB', 'VGC'\n",
    "#     ]\n",
    "profs = [\n",
    "        'URBANRURAL', 'STATE_CODE', 'VBB', 'VBF', 'VBM', 'VBG',\n",
    "         'VHT', 'VGB', 'VGC'\n",
    "    ]\n",
    "target_vars = [\"Income\",\"rent\"]\n",
    "d = {\n",
    "        'URBANRURAL': 'urban_rural',\n",
    "        'STATE_CODE': 'state_code', \n",
    "        'VBB': 'gender', \n",
    "        'VBF': 'employment_status', \n",
    "        'VBM': 'employment_classification', \n",
    "        'VBG': 'employment_industry',        \n",
    "        'VBH': 'residence_origin', \n",
    "        'VBJ': 'migration_status', \n",
    "        'VBK': 'migration_type', \n",
    "        'VBL': 'migrant_classification', \n",
    "        'VGQ': 'employment_interest', \n",
    "        'VBP': 'sector_interest', \n",
    "        'VHT': 'govt_job_preparation', \n",
    "        'VGB': 'marital_status', \n",
    "        'VGC': 'education_level',\n",
    "        'VBC': 'age', \n",
    "        'VHN': 'experience_years',\n",
    "        'VBD': 'personal_income_mid', \n",
    "        'VDD': 'willingness_pay_rent_mid'\n",
    "    }    \n",
    "new_profs = [d[k] for k in profs]"
   ]
  },
  {
   "cell_type": "code",
   "execution_count": 14,
   "id": "85563fd5-1b05-4f2d-a1d5-b108f612041d",
   "metadata": {},
   "outputs": [
    {
     "data": {
      "text/html": [
       "<div>\n",
       "<style scoped>\n",
       "    .dataframe tbody tr th:only-of-type {\n",
       "        vertical-align: middle;\n",
       "    }\n",
       "\n",
       "    .dataframe tbody tr th {\n",
       "        vertical-align: top;\n",
       "    }\n",
       "\n",
       "    .dataframe thead th {\n",
       "        text-align: right;\n",
       "    }\n",
       "</style>\n",
       "<table border=\"1\" class=\"dataframe\">\n",
       "  <thead>\n",
       "    <tr style=\"text-align: right;\">\n",
       "      <th></th>\n",
       "      <th>urban_rural</th>\n",
       "      <th>state_code</th>\n",
       "      <th>gender</th>\n",
       "      <th>employment_status</th>\n",
       "      <th>employment_classification</th>\n",
       "      <th>employment_industry</th>\n",
       "      <th>residence_origin</th>\n",
       "      <th>migration_status</th>\n",
       "      <th>migration_type</th>\n",
       "      <th>migrant_classification</th>\n",
       "      <th>employment_interest</th>\n",
       "      <th>sector_interest</th>\n",
       "      <th>govt_job_preparation</th>\n",
       "      <th>marital_status</th>\n",
       "      <th>education_level</th>\n",
       "    </tr>\n",
       "  </thead>\n",
       "  <tbody>\n",
       "    <tr>\n",
       "      <th>0</th>\n",
       "      <td>Urban</td>\n",
       "      <td>Tamil Nadu</td>\n",
       "      <td>Female</td>\n",
       "      <td>Helping in family business for no salary</td>\n",
       "      <td>Employed</td>\n",
       "      <td>Others, please specify</td>\n",
       "      <td>No</td>\n",
       "      <td>Migrant</td>\n",
       "      <td>Yes</td>\n",
       "      <td>Intrastate Migrant</td>\n",
       "      <td>Self-employed (Working alone or with partner/s)</td>\n",
       "      <td>Manufacturing / factory</td>\n",
       "      <td>Yes</td>\n",
       "      <td>Not married / single</td>\n",
       "      <td>Graduate</td>\n",
       "    </tr>\n",
       "    <tr>\n",
       "      <th>1</th>\n",
       "      <td>Urban</td>\n",
       "      <td>Madhya Pradesh</td>\n",
       "      <td>Female</td>\n",
       "      <td>Salaried / internship / apprenticeship</td>\n",
       "      <td>Employed</td>\n",
       "      <td>Other services - services such as healthcare (...</td>\n",
       "      <td>Yes</td>\n",
       "      <td>Resident</td>\n",
       "      <td>0</td>\n",
       "      <td>0</td>\n",
       "      <td>Self-employed (Working alone or with partner/s)</td>\n",
       "      <td>Manufacturing / factory</td>\n",
       "      <td>No</td>\n",
       "      <td>Married</td>\n",
       "      <td>School - 5 to 9 years</td>\n",
       "    </tr>\n",
       "    <tr>\n",
       "      <th>2</th>\n",
       "      <td>Urban</td>\n",
       "      <td>Madhya Pradesh</td>\n",
       "      <td>Female</td>\n",
       "      <td>Not working currently but seeking and / or ava...</td>\n",
       "      <td>Unemployed</td>\n",
       "      <td>0</td>\n",
       "      <td>No</td>\n",
       "      <td>Migrant</td>\n",
       "      <td>Yes</td>\n",
       "      <td>Intrastate Migrant</td>\n",
       "      <td>Others, please specify</td>\n",
       "      <td>Others, please specify</td>\n",
       "      <td>No</td>\n",
       "      <td>Married</td>\n",
       "      <td>Higher secondary</td>\n",
       "    </tr>\n",
       "    <tr>\n",
       "      <th>3</th>\n",
       "      <td>Urban</td>\n",
       "      <td>Madhya Pradesh</td>\n",
       "      <td>Male</td>\n",
       "      <td>Casual labour</td>\n",
       "      <td>Employed</td>\n",
       "      <td>Hotel &amp; restaurant</td>\n",
       "      <td>Yes</td>\n",
       "      <td>Resident</td>\n",
       "      <td>0</td>\n",
       "      <td>0</td>\n",
       "      <td>Salaried</td>\n",
       "      <td>Manufacturing / factory</td>\n",
       "      <td>No</td>\n",
       "      <td>Not married / single</td>\n",
       "      <td>Higher secondary</td>\n",
       "    </tr>\n",
       "    <tr>\n",
       "      <th>4</th>\n",
       "      <td>Rural</td>\n",
       "      <td>Madhya Pradesh</td>\n",
       "      <td>Female</td>\n",
       "      <td>Not working currently but seeking and / or ava...</td>\n",
       "      <td>Unemployed</td>\n",
       "      <td>0</td>\n",
       "      <td>No</td>\n",
       "      <td>Migrant</td>\n",
       "      <td>Yes</td>\n",
       "      <td>Intrastate Migrant</td>\n",
       "      <td>Casual labour</td>\n",
       "      <td>Other services - services such as healthcare (...</td>\n",
       "      <td>No</td>\n",
       "      <td>Married</td>\n",
       "      <td>Secondary</td>\n",
       "    </tr>\n",
       "  </tbody>\n",
       "</table>\n",
       "</div>"
      ],
      "text/plain": [
       "  urban_rural      state_code  gender  \\\n",
       "0       Urban      Tamil Nadu  Female   \n",
       "1       Urban  Madhya Pradesh  Female   \n",
       "2       Urban  Madhya Pradesh  Female   \n",
       "3       Urban  Madhya Pradesh    Male   \n",
       "4       Rural  Madhya Pradesh  Female   \n",
       "\n",
       "                                   employment_status  \\\n",
       "0           Helping in family business for no salary   \n",
       "1             Salaried / internship / apprenticeship   \n",
       "2  Not working currently but seeking and / or ava...   \n",
       "3                                      Casual labour   \n",
       "4  Not working currently but seeking and / or ava...   \n",
       "\n",
       "  employment_classification  \\\n",
       "0                  Employed   \n",
       "1                  Employed   \n",
       "2                Unemployed   \n",
       "3                  Employed   \n",
       "4                Unemployed   \n",
       "\n",
       "                                 employment_industry residence_origin  \\\n",
       "0                             Others, please specify               No   \n",
       "1  Other services - services such as healthcare (...              Yes   \n",
       "2                                                  0               No   \n",
       "3                                 Hotel & restaurant              Yes   \n",
       "4                                                  0               No   \n",
       "\n",
       "  migration_status migration_type migrant_classification  \\\n",
       "0          Migrant            Yes     Intrastate Migrant   \n",
       "1         Resident              0                      0   \n",
       "2          Migrant            Yes     Intrastate Migrant   \n",
       "3         Resident              0                      0   \n",
       "4          Migrant            Yes     Intrastate Migrant   \n",
       "\n",
       "                               employment_interest  \\\n",
       "0  Self-employed (Working alone or with partner/s)   \n",
       "1  Self-employed (Working alone or with partner/s)   \n",
       "2                           Others, please specify   \n",
       "3                                         Salaried   \n",
       "4                                    Casual labour   \n",
       "\n",
       "                                     sector_interest govt_job_preparation  \\\n",
       "0                            Manufacturing / factory                  Yes   \n",
       "1                            Manufacturing / factory                   No   \n",
       "2                             Others, please specify                   No   \n",
       "3                            Manufacturing / factory                   No   \n",
       "4  Other services - services such as healthcare (...                   No   \n",
       "\n",
       "         marital_status        education_level  \n",
       "0  Not married / single               Graduate  \n",
       "1               Married  School - 5 to 9 years  \n",
       "2               Married       Higher secondary  \n",
       "3  Not married / single       Higher secondary  \n",
       "4               Married              Secondary  "
      ]
     },
     "execution_count": 14,
     "metadata": {},
     "output_type": "execute_result"
    }
   ],
   "source": [
    "df1[new_profs].head()"
   ]
  },
  {
   "cell_type": "code",
   "execution_count": 44,
   "id": "6bc3b33e-e533-4fc2-9dfc-a7f6a0c93689",
   "metadata": {},
   "outputs": [
    {
     "data": {
      "text/plain": [
       "(['urban_rural',\n",
       "  'state_code',\n",
       "  'gender',\n",
       "  'employment_status',\n",
       "  'employment_classification',\n",
       "  'employment_industry',\n",
       "  'govt_job_preparation',\n",
       "  'marital_status',\n",
       "  'education_level'],\n",
       " ['Income', 'rent'])"
      ]
     },
     "execution_count": 44,
     "metadata": {},
     "output_type": "execute_result"
    }
   ],
   "source": [
    "new_profs, target_vars"
   ]
  },
  {
   "cell_type": "code",
   "execution_count": 48,
   "id": "8ed6b8e7-2d9b-47de-bbae-49842bf0a942",
   "metadata": {},
   "outputs": [],
   "source": [
    "bbn = BayesNet(new_profs[:5],target_vars)"
   ]
  },
  {
   "cell_type": "code",
   "execution_count": 49,
   "id": "64c541e6-81e9-4f9e-b6b3-550cec4c59a9",
   "metadata": {},
   "outputs": [
    {
     "data": {
      "application/vnd.jupyter.widget-view+json": {
       "model_id": "b00f1f05ba994ad9bd73936dc6f2d11b",
       "version_major": 2,
       "version_minor": 0
      },
      "text/plain": [
       "  0%|          | 0/1000000 [00:00<?, ?it/s]"
      ]
     },
     "metadata": {},
     "output_type": "display_data"
    },
    {
     "data": {
      "application/vnd.jupyter.widget-view+json": {
       "model_id": "ced27737d7ef48b8adb6d9f368ed23c2",
       "version_major": 2,
       "version_minor": 0
      },
      "text/plain": [
       "  0%|          | 0/1000000 [00:00<?, ?it/s]"
      ]
     },
     "metadata": {},
     "output_type": "display_data"
    }
   ],
   "source": [
    "data = bbn.simulate_data()"
   ]
  },
  {
   "cell_type": "code",
   "execution_count": 17,
   "id": "e1fbb9d8-578a-42c4-90ab-739726860289",
   "metadata": {},
   "outputs": [
    {
     "data": {
      "text/plain": [
       "array([[5., 0.],\n",
       "       [2., 1.],\n",
       "       [3., 6.],\n",
       "       ...,\n",
       "       [3., 0.],\n",
       "       [7., 6.],\n",
       "       [6., 3.]], shape=(2936, 2))"
      ]
     },
     "execution_count": 17,
     "metadata": {},
     "output_type": "execute_result"
    }
   ],
   "source": [
    "data"
   ]
  },
  {
   "cell_type": "code",
   "execution_count": 50,
   "id": "01280a9c-7922-4f72-8cff-15eeb2a0fef9",
   "metadata": {},
   "outputs": [],
   "source": [
    "tdf = pd.DataFrame(data,columns=[\"income\",\"rent\"])"
   ]
  },
  {
   "cell_type": "code",
   "execution_count": 51,
   "id": "c2a6c103-f9f0-45ad-9bd2-540047359556",
   "metadata": {},
   "outputs": [
    {
     "data": {
      "text/html": [
       "<div>\n",
       "<style scoped>\n",
       "    .dataframe tbody tr th:only-of-type {\n",
       "        vertical-align: middle;\n",
       "    }\n",
       "\n",
       "    .dataframe tbody tr th {\n",
       "        vertical-align: top;\n",
       "    }\n",
       "\n",
       "    .dataframe thead th {\n",
       "        text-align: right;\n",
       "    }\n",
       "</style>\n",
       "<table border=\"1\" class=\"dataframe\">\n",
       "  <thead>\n",
       "    <tr style=\"text-align: right;\">\n",
       "      <th></th>\n",
       "      <th>income</th>\n",
       "      <th>rent</th>\n",
       "    </tr>\n",
       "  </thead>\n",
       "  <tbody>\n",
       "    <tr>\n",
       "      <th>0</th>\n",
       "      <td>2.0</td>\n",
       "      <td>1.0</td>\n",
       "    </tr>\n",
       "    <tr>\n",
       "      <th>1</th>\n",
       "      <td>3.0</td>\n",
       "      <td>1.0</td>\n",
       "    </tr>\n",
       "    <tr>\n",
       "      <th>2</th>\n",
       "      <td>3.0</td>\n",
       "      <td>1.0</td>\n",
       "    </tr>\n",
       "    <tr>\n",
       "      <th>3</th>\n",
       "      <td>6.0</td>\n",
       "      <td>5.0</td>\n",
       "    </tr>\n",
       "    <tr>\n",
       "      <th>4</th>\n",
       "      <td>2.0</td>\n",
       "      <td>4.0</td>\n",
       "    </tr>\n",
       "  </tbody>\n",
       "</table>\n",
       "</div>"
      ],
      "text/plain": [
       "   income  rent\n",
       "0     2.0   1.0\n",
       "1     3.0   1.0\n",
       "2     3.0   1.0\n",
       "3     6.0   5.0\n",
       "4     2.0   4.0"
      ]
     },
     "execution_count": 51,
     "metadata": {},
     "output_type": "execute_result"
    }
   ],
   "source": [
    "tdf.head()"
   ]
  },
  {
   "cell_type": "code",
   "execution_count": 54,
   "id": "27508024-27c8-4d15-9aa3-321a3d82dbcf",
   "metadata": {},
   "outputs": [],
   "source": [
    "for v in tdf.columns:\n",
    "    tdf[v] = tdf[v].apply(int)"
   ]
  },
  {
   "cell_type": "code",
   "execution_count": 55,
   "id": "89346e2c-39b0-49e3-84f9-540ce0c41480",
   "metadata": {},
   "outputs": [
    {
     "data": {
      "text/html": [
       "<div>\n",
       "<style scoped>\n",
       "    .dataframe tbody tr th:only-of-type {\n",
       "        vertical-align: middle;\n",
       "    }\n",
       "\n",
       "    .dataframe tbody tr th {\n",
       "        vertical-align: top;\n",
       "    }\n",
       "\n",
       "    .dataframe thead th {\n",
       "        text-align: right;\n",
       "    }\n",
       "</style>\n",
       "<table border=\"1\" class=\"dataframe\">\n",
       "  <thead>\n",
       "    <tr style=\"text-align: right;\">\n",
       "      <th></th>\n",
       "      <th>income</th>\n",
       "      <th>rent</th>\n",
       "    </tr>\n",
       "  </thead>\n",
       "  <tbody>\n",
       "    <tr>\n",
       "      <th>0</th>\n",
       "      <td>2</td>\n",
       "      <td>1</td>\n",
       "    </tr>\n",
       "    <tr>\n",
       "      <th>1</th>\n",
       "      <td>3</td>\n",
       "      <td>1</td>\n",
       "    </tr>\n",
       "    <tr>\n",
       "      <th>2</th>\n",
       "      <td>3</td>\n",
       "      <td>1</td>\n",
       "    </tr>\n",
       "    <tr>\n",
       "      <th>3</th>\n",
       "      <td>6</td>\n",
       "      <td>5</td>\n",
       "    </tr>\n",
       "    <tr>\n",
       "      <th>4</th>\n",
       "      <td>2</td>\n",
       "      <td>4</td>\n",
       "    </tr>\n",
       "  </tbody>\n",
       "</table>\n",
       "</div>"
      ],
      "text/plain": [
       "   income  rent\n",
       "0       2     1\n",
       "1       3     1\n",
       "2       3     1\n",
       "3       6     5\n",
       "4       2     4"
      ]
     },
     "execution_count": 55,
     "metadata": {},
     "output_type": "execute_result"
    }
   ],
   "source": [
    "tdf.head()"
   ]
  },
  {
   "cell_type": "code",
   "execution_count": 59,
   "id": "f7bab05b-5a97-432e-b10c-0e30a1a8448b",
   "metadata": {},
   "outputs": [
    {
     "data": {
      "text/plain": [
       "({'₹5,001 – ₹7,500': 0,\n",
       "  '₹12501 – ₹15,000': 1,\n",
       "  '₹3,001 – ₹5,000': 2,\n",
       "  '0 - Respondent is unemployed or not earning': 3,\n",
       "  '₹1,001 – ₹3,000': 4,\n",
       "  '₹7,501 – ₹10,000': 5,\n",
       "  '₹10,001 – ₹12500': 6,\n",
       "  '₹15,001 – ₹17,500': 7,\n",
       "  '₹17501 – ₹20,000': 8,\n",
       "  'Up to ₹1,000': 9},\n",
       " {'₹ 2,001 – 3,000': 0,\n",
       "  '₹ 1,001 – 1,500': 1,\n",
       "  'More than ₹ 5,000': 2,\n",
       "  '₹ 3,001 - 4,000': 3,\n",
       "  '₹ 1,501 – 2,000': 4,\n",
       "  '₹ 4,001 – 5,000': 5,\n",
       "  'Less than 1,000': 6})"
      ]
     },
     "execution_count": 59,
     "metadata": {},
     "output_type": "execute_result"
    }
   ],
   "source": [
    "d_ic, d_rent"
   ]
  },
  {
   "cell_type": "code",
   "execution_count": 60,
   "id": "779247d6-eabb-4f8a-8bb7-a638100ff7b1",
   "metadata": {},
   "outputs": [],
   "source": [
    "d_in_rev = {v:k for k,v in d_ic.items()}\n",
    "d_rent_rev = {v:k for k,v in d_rent.items()}"
   ]
  },
  {
   "cell_type": "code",
   "execution_count": 61,
   "id": "ba03ba8a-cc81-4458-bf4c-f456633d12f3",
   "metadata": {},
   "outputs": [
    {
     "data": {
      "text/plain": [
       "({0: '₹5,001 – ₹7,500',\n",
       "  1: '₹12501 – ₹15,000',\n",
       "  2: '₹3,001 – ₹5,000',\n",
       "  3: '0 - Respondent is unemployed or not earning',\n",
       "  4: '₹1,001 – ₹3,000',\n",
       "  5: '₹7,501 – ₹10,000',\n",
       "  6: '₹10,001 – ₹12500',\n",
       "  7: '₹15,001 – ₹17,500',\n",
       "  8: '₹17501 – ₹20,000',\n",
       "  9: 'Up to ₹1,000'},\n",
       " {0: '₹ 2,001 – 3,000',\n",
       "  1: '₹ 1,001 – 1,500',\n",
       "  2: 'More than ₹ 5,000',\n",
       "  3: '₹ 3,001 - 4,000',\n",
       "  4: '₹ 1,501 – 2,000',\n",
       "  5: '₹ 4,001 – 5,000',\n",
       "  6: 'Less than 1,000'})"
      ]
     },
     "execution_count": 61,
     "metadata": {},
     "output_type": "execute_result"
    }
   ],
   "source": [
    "d_in_rev, d_rent_rev"
   ]
  },
  {
   "cell_type": "code",
   "execution_count": 62,
   "id": "a0594f80-8d05-4f3a-b358-c88e5ace75fe",
   "metadata": {},
   "outputs": [],
   "source": [
    "tdf[\"income\"] = tdf[\"income\"].map(d_in_rev)\n",
    "tdf[\"rent\"] = tdf[\"rent\"].map(d_rent_rev)"
   ]
  },
  {
   "cell_type": "code",
   "execution_count": 63,
   "id": "022ec23e-5997-402c-99fe-cab4e29ae641",
   "metadata": {},
   "outputs": [
    {
     "data": {
      "text/html": [
       "<div>\n",
       "<style scoped>\n",
       "    .dataframe tbody tr th:only-of-type {\n",
       "        vertical-align: middle;\n",
       "    }\n",
       "\n",
       "    .dataframe tbody tr th {\n",
       "        vertical-align: top;\n",
       "    }\n",
       "\n",
       "    .dataframe thead th {\n",
       "        text-align: right;\n",
       "    }\n",
       "</style>\n",
       "<table border=\"1\" class=\"dataframe\">\n",
       "  <thead>\n",
       "    <tr style=\"text-align: right;\">\n",
       "      <th></th>\n",
       "      <th>income</th>\n",
       "      <th>rent</th>\n",
       "    </tr>\n",
       "  </thead>\n",
       "  <tbody>\n",
       "    <tr>\n",
       "      <th>0</th>\n",
       "      <td>₹3,001 – ₹5,000</td>\n",
       "      <td>₹ 1,001 – 1,500</td>\n",
       "    </tr>\n",
       "    <tr>\n",
       "      <th>1</th>\n",
       "      <td>0 - Respondent is unemployed or not earning</td>\n",
       "      <td>₹ 1,001 – 1,500</td>\n",
       "    </tr>\n",
       "    <tr>\n",
       "      <th>2</th>\n",
       "      <td>0 - Respondent is unemployed or not earning</td>\n",
       "      <td>₹ 1,001 – 1,500</td>\n",
       "    </tr>\n",
       "    <tr>\n",
       "      <th>3</th>\n",
       "      <td>₹10,001 – ₹12500</td>\n",
       "      <td>₹ 4,001 – 5,000</td>\n",
       "    </tr>\n",
       "    <tr>\n",
       "      <th>4</th>\n",
       "      <td>₹3,001 – ₹5,000</td>\n",
       "      <td>₹ 1,501 – 2,000</td>\n",
       "    </tr>\n",
       "  </tbody>\n",
       "</table>\n",
       "</div>"
      ],
      "text/plain": [
       "                                        income             rent\n",
       "0                              ₹3,001 – ₹5,000  ₹ 1,001 – 1,500\n",
       "1  0 - Respondent is unemployed or not earning  ₹ 1,001 – 1,500\n",
       "2  0 - Respondent is unemployed or not earning  ₹ 1,001 – 1,500\n",
       "3                             ₹10,001 – ₹12500  ₹ 4,001 – 5,000\n",
       "4                              ₹3,001 – ₹5,000  ₹ 1,501 – 2,000"
      ]
     },
     "execution_count": 63,
     "metadata": {},
     "output_type": "execute_result"
    }
   ],
   "source": [
    "tdf.head()"
   ]
  },
  {
   "cell_type": "code",
   "execution_count": 64,
   "id": "7b2cc2a6-b6b6-485b-af7b-d93c4157f545",
   "metadata": {},
   "outputs": [],
   "source": [
    "tdf.columns = [\"predicted_income_cat\",\"predicted_rent_cat\"]"
   ]
  },
  {
   "cell_type": "code",
   "execution_count": 65,
   "id": "db1658c9-8236-4098-a28f-cebe73b3e4df",
   "metadata": {},
   "outputs": [
    {
     "data": {
      "text/html": [
       "<div>\n",
       "<style scoped>\n",
       "    .dataframe tbody tr th:only-of-type {\n",
       "        vertical-align: middle;\n",
       "    }\n",
       "\n",
       "    .dataframe tbody tr th {\n",
       "        vertical-align: top;\n",
       "    }\n",
       "\n",
       "    .dataframe thead th {\n",
       "        text-align: right;\n",
       "    }\n",
       "</style>\n",
       "<table border=\"1\" class=\"dataframe\">\n",
       "  <thead>\n",
       "    <tr style=\"text-align: right;\">\n",
       "      <th></th>\n",
       "      <th>predicted_income_cat</th>\n",
       "      <th>predicted_rent_cat</th>\n",
       "    </tr>\n",
       "  </thead>\n",
       "  <tbody>\n",
       "    <tr>\n",
       "      <th>0</th>\n",
       "      <td>₹3,001 – ₹5,000</td>\n",
       "      <td>₹ 1,001 – 1,500</td>\n",
       "    </tr>\n",
       "    <tr>\n",
       "      <th>1</th>\n",
       "      <td>0 - Respondent is unemployed or not earning</td>\n",
       "      <td>₹ 1,001 – 1,500</td>\n",
       "    </tr>\n",
       "    <tr>\n",
       "      <th>2</th>\n",
       "      <td>0 - Respondent is unemployed or not earning</td>\n",
       "      <td>₹ 1,001 – 1,500</td>\n",
       "    </tr>\n",
       "    <tr>\n",
       "      <th>3</th>\n",
       "      <td>₹10,001 – ₹12500</td>\n",
       "      <td>₹ 4,001 – 5,000</td>\n",
       "    </tr>\n",
       "    <tr>\n",
       "      <th>4</th>\n",
       "      <td>₹3,001 – ₹5,000</td>\n",
       "      <td>₹ 1,501 – 2,000</td>\n",
       "    </tr>\n",
       "  </tbody>\n",
       "</table>\n",
       "</div>"
      ],
      "text/plain": [
       "                          predicted_income_cat predicted_rent_cat\n",
       "0                              ₹3,001 – ₹5,000    ₹ 1,001 – 1,500\n",
       "1  0 - Respondent is unemployed or not earning    ₹ 1,001 – 1,500\n",
       "2  0 - Respondent is unemployed or not earning    ₹ 1,001 – 1,500\n",
       "3                             ₹10,001 – ₹12500    ₹ 4,001 – 5,000\n",
       "4                              ₹3,001 – ₹5,000    ₹ 1,501 – 2,000"
      ]
     },
     "execution_count": 65,
     "metadata": {},
     "output_type": "execute_result"
    }
   ],
   "source": [
    "tdf.head()"
   ]
  },
  {
   "cell_type": "code",
   "execution_count": 66,
   "id": "6c7f95f1-0f3a-486a-899d-b4badfbe84ba",
   "metadata": {},
   "outputs": [],
   "source": [
    "df_target_updated = pd.concat([df2,tdf],axis=1)"
   ]
  },
  {
   "cell_type": "code",
   "execution_count": 67,
   "id": "eeede3aa-5a5c-4d4c-8104-9d34402bab75",
   "metadata": {},
   "outputs": [
    {
     "data": {
      "text/html": [
       "<div>\n",
       "<style scoped>\n",
       "    .dataframe tbody tr th:only-of-type {\n",
       "        vertical-align: middle;\n",
       "    }\n",
       "\n",
       "    .dataframe tbody tr th {\n",
       "        vertical-align: top;\n",
       "    }\n",
       "\n",
       "    .dataframe thead th {\n",
       "        text-align: right;\n",
       "    }\n",
       "</style>\n",
       "<table border=\"1\" class=\"dataframe\">\n",
       "  <thead>\n",
       "    <tr style=\"text-align: right;\">\n",
       "      <th></th>\n",
       "      <th>OG _INTNR</th>\n",
       "      <th>urban_rural</th>\n",
       "      <th>state_code</th>\n",
       "      <th>gender</th>\n",
       "      <th>employment_status</th>\n",
       "      <th>salary_deductions</th>\n",
       "      <th>employment_classification</th>\n",
       "      <th>employment_industry</th>\n",
       "      <th>residence_origin</th>\n",
       "      <th>migration_status</th>\n",
       "      <th>...</th>\n",
       "      <th>migrant_classification</th>\n",
       "      <th>employment_interest</th>\n",
       "      <th>sector_interest</th>\n",
       "      <th>govt_job_preparation</th>\n",
       "      <th>marital_status</th>\n",
       "      <th>education_level</th>\n",
       "      <th>age</th>\n",
       "      <th>experience_years</th>\n",
       "      <th>predicted_income_cat</th>\n",
       "      <th>predicted_rent_cat</th>\n",
       "    </tr>\n",
       "  </thead>\n",
       "  <tbody>\n",
       "    <tr>\n",
       "      <th>0</th>\n",
       "      <td>18</td>\n",
       "      <td>Urban</td>\n",
       "      <td>Madhya Pradesh</td>\n",
       "      <td>Female</td>\n",
       "      <td>Others, please specify</td>\n",
       "      <td>NaN</td>\n",
       "      <td>Employed</td>\n",
       "      <td>Others, please specify</td>\n",
       "      <td>Yes</td>\n",
       "      <td>Resident</td>\n",
       "      <td>...</td>\n",
       "      <td>NaN</td>\n",
       "      <td>Others, please specify</td>\n",
       "      <td>Other services - services such as healthcare (...</td>\n",
       "      <td>No</td>\n",
       "      <td>Married</td>\n",
       "      <td>School - 5 to 9 years</td>\n",
       "      <td>38</td>\n",
       "      <td>2</td>\n",
       "      <td>₹3,001 – ₹5,000</td>\n",
       "      <td>₹ 1,001 – 1,500</td>\n",
       "    </tr>\n",
       "    <tr>\n",
       "      <th>1</th>\n",
       "      <td>23</td>\n",
       "      <td>Urban</td>\n",
       "      <td>Madhya Pradesh</td>\n",
       "      <td>Female</td>\n",
       "      <td>Salaried / internship / apprenticeship</td>\n",
       "      <td>2000.0</td>\n",
       "      <td>Employed</td>\n",
       "      <td>Other services - services such as healthcare (...</td>\n",
       "      <td>Yes</td>\n",
       "      <td>Resident</td>\n",
       "      <td>...</td>\n",
       "      <td>NaN</td>\n",
       "      <td>Self-employed (Working alone or with partner/s)</td>\n",
       "      <td>Other services - services such as healthcare (...</td>\n",
       "      <td>No</td>\n",
       "      <td>Married</td>\n",
       "      <td>School - 5 to 9 years</td>\n",
       "      <td>34</td>\n",
       "      <td>4</td>\n",
       "      <td>0 - Respondent is unemployed or not earning</td>\n",
       "      <td>₹ 1,001 – 1,500</td>\n",
       "    </tr>\n",
       "    <tr>\n",
       "      <th>2</th>\n",
       "      <td>28</td>\n",
       "      <td>Urban</td>\n",
       "      <td>Madhya Pradesh</td>\n",
       "      <td>Female</td>\n",
       "      <td>Helping in family business for no salary</td>\n",
       "      <td>NaN</td>\n",
       "      <td>Employed</td>\n",
       "      <td>Others, please specify</td>\n",
       "      <td>Yes</td>\n",
       "      <td>Resident</td>\n",
       "      <td>...</td>\n",
       "      <td>NaN</td>\n",
       "      <td>Helping in family business for no salary</td>\n",
       "      <td>Others, please specify</td>\n",
       "      <td>No</td>\n",
       "      <td>Married</td>\n",
       "      <td>School - 5 to 9 years</td>\n",
       "      <td>30</td>\n",
       "      <td>2</td>\n",
       "      <td>0 - Respondent is unemployed or not earning</td>\n",
       "      <td>₹ 1,001 – 1,500</td>\n",
       "    </tr>\n",
       "    <tr>\n",
       "      <th>3</th>\n",
       "      <td>30</td>\n",
       "      <td>Urban</td>\n",
       "      <td>Madhya Pradesh</td>\n",
       "      <td>Male</td>\n",
       "      <td>Casual labour</td>\n",
       "      <td>NaN</td>\n",
       "      <td>Employed</td>\n",
       "      <td>Construction</td>\n",
       "      <td>Yes</td>\n",
       "      <td>Resident</td>\n",
       "      <td>...</td>\n",
       "      <td>NaN</td>\n",
       "      <td>Casual labour</td>\n",
       "      <td>Construction</td>\n",
       "      <td>No</td>\n",
       "      <td>Married</td>\n",
       "      <td>School - 5 to 9 years</td>\n",
       "      <td>40</td>\n",
       "      <td>25</td>\n",
       "      <td>₹10,001 – ₹12500</td>\n",
       "      <td>₹ 4,001 – 5,000</td>\n",
       "    </tr>\n",
       "    <tr>\n",
       "      <th>4</th>\n",
       "      <td>34</td>\n",
       "      <td>Urban</td>\n",
       "      <td>Madhya Pradesh</td>\n",
       "      <td>Female</td>\n",
       "      <td>Casual labour</td>\n",
       "      <td>NaN</td>\n",
       "      <td>Employed</td>\n",
       "      <td>Other services - services such as healthcare (...</td>\n",
       "      <td>Yes</td>\n",
       "      <td>Resident</td>\n",
       "      <td>...</td>\n",
       "      <td>NaN</td>\n",
       "      <td>Salaried</td>\n",
       "      <td>Other services - services such as healthcare (...</td>\n",
       "      <td>No</td>\n",
       "      <td>Married</td>\n",
       "      <td>School - up to 4 years</td>\n",
       "      <td>40</td>\n",
       "      <td>20</td>\n",
       "      <td>₹3,001 – ₹5,000</td>\n",
       "      <td>₹ 1,501 – 2,000</td>\n",
       "    </tr>\n",
       "  </tbody>\n",
       "</table>\n",
       "<p>5 rows × 21 columns</p>\n",
       "</div>"
      ],
      "text/plain": [
       "   OG _INTNR urban_rural      state_code  gender  \\\n",
       "0         18       Urban  Madhya Pradesh  Female   \n",
       "1         23       Urban  Madhya Pradesh  Female   \n",
       "2         28       Urban  Madhya Pradesh  Female   \n",
       "3         30       Urban  Madhya Pradesh    Male   \n",
       "4         34       Urban  Madhya Pradesh  Female   \n",
       "\n",
       "                          employment_status  salary_deductions  \\\n",
       "0                    Others, please specify                NaN   \n",
       "1    Salaried / internship / apprenticeship             2000.0   \n",
       "2  Helping in family business for no salary                NaN   \n",
       "3                             Casual labour                NaN   \n",
       "4                             Casual labour                NaN   \n",
       "\n",
       "  employment_classification  \\\n",
       "0                  Employed   \n",
       "1                  Employed   \n",
       "2                  Employed   \n",
       "3                  Employed   \n",
       "4                  Employed   \n",
       "\n",
       "                                 employment_industry residence_origin  \\\n",
       "0                             Others, please specify              Yes   \n",
       "1  Other services - services such as healthcare (...              Yes   \n",
       "2                             Others, please specify              Yes   \n",
       "3                                       Construction              Yes   \n",
       "4  Other services - services such as healthcare (...              Yes   \n",
       "\n",
       "  migration_status  ... migrant_classification  \\\n",
       "0         Resident  ...                    NaN   \n",
       "1         Resident  ...                    NaN   \n",
       "2         Resident  ...                    NaN   \n",
       "3         Resident  ...                    NaN   \n",
       "4         Resident  ...                    NaN   \n",
       "\n",
       "                               employment_interest  \\\n",
       "0                           Others, please specify   \n",
       "1  Self-employed (Working alone or with partner/s)   \n",
       "2         Helping in family business for no salary   \n",
       "3                                    Casual labour   \n",
       "4                                         Salaried   \n",
       "\n",
       "                                     sector_interest govt_job_preparation  \\\n",
       "0  Other services - services such as healthcare (...                   No   \n",
       "1  Other services - services such as healthcare (...                   No   \n",
       "2                             Others, please specify                   No   \n",
       "3                                       Construction                   No   \n",
       "4  Other services - services such as healthcare (...                   No   \n",
       "\n",
       "  marital_status         education_level age  experience_years  \\\n",
       "0        Married   School - 5 to 9 years  38                 2   \n",
       "1        Married   School - 5 to 9 years  34                 4   \n",
       "2        Married   School - 5 to 9 years  30                 2   \n",
       "3        Married   School - 5 to 9 years  40                25   \n",
       "4        Married  School - up to 4 years  40                20   \n",
       "\n",
       "                          predicted_income_cat predicted_rent_cat  \n",
       "0                              ₹3,001 – ₹5,000    ₹ 1,001 – 1,500  \n",
       "1  0 - Respondent is unemployed or not earning    ₹ 1,001 – 1,500  \n",
       "2  0 - Respondent is unemployed or not earning    ₹ 1,001 – 1,500  \n",
       "3                             ₹10,001 – ₹12500    ₹ 4,001 – 5,000  \n",
       "4                              ₹3,001 – ₹5,000    ₹ 1,501 – 2,000  \n",
       "\n",
       "[5 rows x 21 columns]"
      ]
     },
     "execution_count": 67,
     "metadata": {},
     "output_type": "execute_result"
    }
   ],
   "source": [
    "df_target_updated.head()"
   ]
  },
  {
   "cell_type": "code",
   "execution_count": 68,
   "id": "32c1b8ef-cc0f-41ef-a754-ceb50dac7968",
   "metadata": {},
   "outputs": [],
   "source": [
    "df_target_updated.to_excel(\"predicted income and rent category.xlsx\",index=False)"
   ]
  },
  {
   "cell_type": "code",
   "execution_count": null,
   "id": "cc1a3743-c331-4ab7-af28-caffc5f33ae1",
   "metadata": {},
   "outputs": [],
   "source": []
  }
 ],
 "metadata": {
  "kernelspec": {
   "display_name": "Python 3 (ipykernel)",
   "language": "python",
   "name": "python3"
  },
  "language_info": {
   "codemirror_mode": {
    "name": "ipython",
    "version": 3
   },
   "file_extension": ".py",
   "mimetype": "text/x-python",
   "name": "python",
   "nbconvert_exporter": "python",
   "pygments_lexer": "ipython3",
   "version": "3.10.11"
  }
 },
 "nbformat": 4,
 "nbformat_minor": 5
}
